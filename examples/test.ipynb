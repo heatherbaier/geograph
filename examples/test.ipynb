{
 "metadata": {
  "language_info": {
   "codemirror_mode": {
    "name": "ipython",
    "version": 3
   },
   "file_extension": ".py",
   "mimetype": "text/x-python",
   "name": "python",
   "nbconvert_exporter": "python",
   "pygments_lexer": "ipython3",
   "version": "3.6.12"
  },
  "orig_nbformat": 2,
  "kernelspec": {
   "name": "caoe",
   "display_name": "caoe",
   "language": "python"
  }
 },
 "nbformat": 4,
 "nbformat_minor": 2,
 "cells": [
  {
   "cell_type": "code",
   "execution_count": 1,
   "metadata": {},
   "outputs": [],
   "source": [
    "import geopandas as gpd\n",
    "import pandas as pd"
   ]
  },
  {
   "cell_type": "code",
   "execution_count": 74,
   "metadata": {},
   "outputs": [
    {
     "output_type": "execute_result",
     "data": {
      "text/plain": [
       "   GEO2_MX   sum_income  total_pop  unrel_ppl  perc_urban  sum_num_intmig\n",
       "0     1001  22382867663   849101.0   0.018720    0.892990         42055.0\n",
       "1     1002   3998425640    45951.0   0.006768    0.269853          4017.0\n",
       "2     1003   3045860068    53142.0   0.011385    0.493884         11992.0\n",
       "3     1004   3449277596    14302.0   0.000839    0.367221           762.0\n",
       "4     1005   3028539049   100150.0   0.019251    0.669675          7551.0"
      ],
      "text/html": "<div>\n<style scoped>\n    .dataframe tbody tr th:only-of-type {\n        vertical-align: middle;\n    }\n\n    .dataframe tbody tr th {\n        vertical-align: top;\n    }\n\n    .dataframe thead th {\n        text-align: right;\n    }\n</style>\n<table border=\"1\" class=\"dataframe\">\n  <thead>\n    <tr style=\"text-align: right;\">\n      <th></th>\n      <th>GEO2_MX</th>\n      <th>sum_income</th>\n      <th>total_pop</th>\n      <th>unrel_ppl</th>\n      <th>perc_urban</th>\n      <th>sum_num_intmig</th>\n    </tr>\n  </thead>\n  <tbody>\n    <tr>\n      <th>0</th>\n      <td>1001</td>\n      <td>22382867663</td>\n      <td>849101.0</td>\n      <td>0.018720</td>\n      <td>0.892990</td>\n      <td>42055.0</td>\n    </tr>\n    <tr>\n      <th>1</th>\n      <td>1002</td>\n      <td>3998425640</td>\n      <td>45951.0</td>\n      <td>0.006768</td>\n      <td>0.269853</td>\n      <td>4017.0</td>\n    </tr>\n    <tr>\n      <th>2</th>\n      <td>1003</td>\n      <td>3045860068</td>\n      <td>53142.0</td>\n      <td>0.011385</td>\n      <td>0.493884</td>\n      <td>11992.0</td>\n    </tr>\n    <tr>\n      <th>3</th>\n      <td>1004</td>\n      <td>3449277596</td>\n      <td>14302.0</td>\n      <td>0.000839</td>\n      <td>0.367221</td>\n      <td>762.0</td>\n    </tr>\n    <tr>\n      <th>4</th>\n      <td>1005</td>\n      <td>3028539049</td>\n      <td>100150.0</td>\n      <td>0.019251</td>\n      <td>0.669675</td>\n      <td>7551.0</td>\n    </tr>\n  </tbody>\n</table>\n</div>"
     },
     "metadata": {},
     "execution_count": 74
    }
   ],
   "source": []
  },
  {
   "cell_type": "code",
   "execution_count": 76,
   "metadata": {},
   "outputs": [
    {
     "output_type": "execute_result",
     "data": {
      "text/plain": [
       "                  shapeID  MUNI2015\n",
       "0  MEX-ADM2-1590546715-B1      1002\n",
       "1  MEX-ADM2-1590546715-B2      1011\n",
       "2  MEX-ADM2-1590546715-B3      1007\n",
       "3  MEX-ADM2-1590546715-B4      1008\n",
       "4  MEX-ADM2-1590546715-B5      1005"
      ],
      "text/html": "<div>\n<style scoped>\n    .dataframe tbody tr th:only-of-type {\n        vertical-align: middle;\n    }\n\n    .dataframe tbody tr th {\n        vertical-align: top;\n    }\n\n    .dataframe thead th {\n        text-align: right;\n    }\n</style>\n<table border=\"1\" class=\"dataframe\">\n  <thead>\n    <tr style=\"text-align: right;\">\n      <th></th>\n      <th>shapeID</th>\n      <th>MUNI2015</th>\n    </tr>\n  </thead>\n  <tbody>\n    <tr>\n      <th>0</th>\n      <td>MEX-ADM2-1590546715-B1</td>\n      <td>1002</td>\n    </tr>\n    <tr>\n      <th>1</th>\n      <td>MEX-ADM2-1590546715-B2</td>\n      <td>1011</td>\n    </tr>\n    <tr>\n      <th>2</th>\n      <td>MEX-ADM2-1590546715-B3</td>\n      <td>1007</td>\n    </tr>\n    <tr>\n      <th>3</th>\n      <td>MEX-ADM2-1590546715-B4</td>\n      <td>1008</td>\n    </tr>\n    <tr>\n      <th>4</th>\n      <td>MEX-ADM2-1590546715-B5</td>\n      <td>1005</td>\n    </tr>\n  </tbody>\n</table>\n</div>"
     },
     "metadata": {},
     "execution_count": 76
    }
   ],
   "source": [
    "match = pd.read_csv(\"./gB_IPUMS_match.csv\")\n",
    "match = match[['shapeID', 'MUNI2015']]\n",
    "ref_dict = dict(zip(match['MUNI2015'], match['shapeID']))\n",
    "match.head()"
   ]
  },
  {
   "cell_type": "code",
   "execution_count": 77,
   "metadata": {},
   "outputs": [
    {
     "output_type": "execute_result",
     "data": {
      "text/plain": [
       "                   GEO2_MX   sum_income  total_pop  unrel_ppl  perc_urban  \\\n",
       "0   MEX-ADM2-1590546715-B7  22382867663   849101.0   0.018720    0.892990   \n",
       "1   MEX-ADM2-1590546715-B1   3998425640    45951.0   0.006768    0.269853   \n",
       "2  MEX-ADM2-1590546715-B10   3045860068    53142.0   0.011385    0.493884   \n",
       "3  MEX-ADM2-1590546715-B11   3449277596    14302.0   0.000839    0.367221   \n",
       "4   MEX-ADM2-1590546715-B5   3028539049   100150.0   0.019251    0.669675   \n",
       "\n",
       "   sum_num_intmig  \n",
       "0         42055.0  \n",
       "1          4017.0  \n",
       "2         11992.0  \n",
       "3           762.0  \n",
       "4          7551.0  "
      ],
      "text/html": "<div>\n<style scoped>\n    .dataframe tbody tr th:only-of-type {\n        vertical-align: middle;\n    }\n\n    .dataframe tbody tr th {\n        vertical-align: top;\n    }\n\n    .dataframe thead th {\n        text-align: right;\n    }\n</style>\n<table border=\"1\" class=\"dataframe\">\n  <thead>\n    <tr style=\"text-align: right;\">\n      <th></th>\n      <th>GEO2_MX</th>\n      <th>sum_income</th>\n      <th>total_pop</th>\n      <th>unrel_ppl</th>\n      <th>perc_urban</th>\n      <th>sum_num_intmig</th>\n    </tr>\n  </thead>\n  <tbody>\n    <tr>\n      <th>0</th>\n      <td>MEX-ADM2-1590546715-B7</td>\n      <td>22382867663</td>\n      <td>849101.0</td>\n      <td>0.018720</td>\n      <td>0.892990</td>\n      <td>42055.0</td>\n    </tr>\n    <tr>\n      <th>1</th>\n      <td>MEX-ADM2-1590546715-B1</td>\n      <td>3998425640</td>\n      <td>45951.0</td>\n      <td>0.006768</td>\n      <td>0.269853</td>\n      <td>4017.0</td>\n    </tr>\n    <tr>\n      <th>2</th>\n      <td>MEX-ADM2-1590546715-B10</td>\n      <td>3045860068</td>\n      <td>53142.0</td>\n      <td>0.011385</td>\n      <td>0.493884</td>\n      <td>11992.0</td>\n    </tr>\n    <tr>\n      <th>3</th>\n      <td>MEX-ADM2-1590546715-B11</td>\n      <td>3449277596</td>\n      <td>14302.0</td>\n      <td>0.000839</td>\n      <td>0.367221</td>\n      <td>762.0</td>\n    </tr>\n    <tr>\n      <th>4</th>\n      <td>MEX-ADM2-1590546715-B5</td>\n      <td>3028539049</td>\n      <td>100150.0</td>\n      <td>0.019251</td>\n      <td>0.669675</td>\n      <td>7551.0</td>\n    </tr>\n  </tbody>\n</table>\n</div>"
     },
     "metadata": {},
     "execution_count": 77
    }
   ],
   "source": [
    "df = pd.read_csv(\"./mexico2010.csv\")\n",
    "df = df[['GEO2_MX', 'sum_income', 'total_pop', 'unrel_ppl', 'perc_urban', 'sum_num_intmig']]\n",
    "df['GEO2_MX'] = df['GEO2_MX'].astype(str).str.replace(\"484\", \"\").astype(int).map(ref_dict)\n",
    "df.head()"
   ]
  },
  {
   "cell_type": "code",
   "execution_count": 49,
   "metadata": {},
   "outputs": [
    {
     "output_type": "execute_result",
     "data": {
      "text/plain": [
       "                   shapeName shapeISO                 shapeID shapeGroup  \\\n",
       "0                   Asientos     None  MEX-ADM2-1590546715-B1        MEX   \n",
       "1  San Francisco de los Romo     None  MEX-ADM2-1590546715-B2        MEX   \n",
       "2            Rincón de Romos     None  MEX-ADM2-1590546715-B3        MEX   \n",
       "3         San José de Gracia     None  MEX-ADM2-1590546715-B4        MEX   \n",
       "4                Jesús María     None  MEX-ADM2-1590546715-B5        MEX   \n",
       "\n",
       "  shapeType  num_flt                                           geometry  \n",
       "0      ADM2      0.0  POLYGON ((-101.99941 22.21951, -101.99940 22.2...  \n",
       "1      ADM2      0.0  POLYGON ((-102.27355 22.08805, -102.27320 22.0...  \n",
       "2      ADM2      0.0  POLYGON ((-102.18902 22.36244, -102.18951 22.3...  \n",
       "3      ADM2      0.0  POLYGON ((-102.35385 22.12064, -102.35426 22.1...  \n",
       "4      ADM2      0.0  POLYGON ((-102.32431 21.93627, -102.32438 21.9...  "
      ],
      "text/html": "<div>\n<style scoped>\n    .dataframe tbody tr th:only-of-type {\n        vertical-align: middle;\n    }\n\n    .dataframe tbody tr th {\n        vertical-align: top;\n    }\n\n    .dataframe thead th {\n        text-align: right;\n    }\n</style>\n<table border=\"1\" class=\"dataframe\">\n  <thead>\n    <tr style=\"text-align: right;\">\n      <th></th>\n      <th>shapeName</th>\n      <th>shapeISO</th>\n      <th>shapeID</th>\n      <th>shapeGroup</th>\n      <th>shapeType</th>\n      <th>num_flt</th>\n      <th>geometry</th>\n    </tr>\n  </thead>\n  <tbody>\n    <tr>\n      <th>0</th>\n      <td>Asientos</td>\n      <td>None</td>\n      <td>MEX-ADM2-1590546715-B1</td>\n      <td>MEX</td>\n      <td>ADM2</td>\n      <td>0.0</td>\n      <td>POLYGON ((-101.99941 22.21951, -101.99940 22.2...</td>\n    </tr>\n    <tr>\n      <th>1</th>\n      <td>San Francisco de los Romo</td>\n      <td>None</td>\n      <td>MEX-ADM2-1590546715-B2</td>\n      <td>MEX</td>\n      <td>ADM2</td>\n      <td>0.0</td>\n      <td>POLYGON ((-102.27355 22.08805, -102.27320 22.0...</td>\n    </tr>\n    <tr>\n      <th>2</th>\n      <td>Rincón de Romos</td>\n      <td>None</td>\n      <td>MEX-ADM2-1590546715-B3</td>\n      <td>MEX</td>\n      <td>ADM2</td>\n      <td>0.0</td>\n      <td>POLYGON ((-102.18902 22.36244, -102.18951 22.3...</td>\n    </tr>\n    <tr>\n      <th>3</th>\n      <td>San José de Gracia</td>\n      <td>None</td>\n      <td>MEX-ADM2-1590546715-B4</td>\n      <td>MEX</td>\n      <td>ADM2</td>\n      <td>0.0</td>\n      <td>POLYGON ((-102.35385 22.12064, -102.35426 22.1...</td>\n    </tr>\n    <tr>\n      <th>4</th>\n      <td>Jesús María</td>\n      <td>None</td>\n      <td>MEX-ADM2-1590546715-B5</td>\n      <td>MEX</td>\n      <td>ADM2</td>\n      <td>0.0</td>\n      <td>POLYGON ((-102.32431 21.93627, -102.32438 21.9...</td>\n    </tr>\n  </tbody>\n</table>\n</div>"
     },
     "metadata": {},
     "execution_count": 49
    }
   ],
   "source": [
    "gdf = gpd.read_file(\"./MEX/MEX_ADM2_fixedInternalTopology.shp\")\n",
    "gdf.head()"
   ]
  },
  {
   "cell_type": "code",
   "execution_count": 78,
   "metadata": {},
   "outputs": [],
   "source": [
    "# # add NEIGHBORS column\n",
    "# gdf[\"NEIGHBORS\"] = None  \n",
    "# i = 0\n",
    "# for index, country in gdf.iterrows():   \n",
    "\n",
    "#     # get 'not disjoint' countries\n",
    "#     neighbors = gdf[~gdf.geometry.disjoint(country.geometry)].shapeID.tolist()\n",
    "\n",
    "#     # remove own name of the country from the list\n",
    "#     neighbors = [ name for name in neighbors if country.shapeID != name ]\n",
    "\n",
    "#     # add names of neighbors as NEIGHBORS value\n",
    "#     gdf.at[index, \"NEIGHBORS\"] = \", \".join(neighbors)\n",
    "\n",
    "#     i += 1\n",
    "\n",
    "#     print(i)\n",
    "\n",
    "#     # if i > 5:\n",
    "#     #     break"
   ]
  },
  {
   "cell_type": "code",
   "execution_count": 62,
   "metadata": {},
   "outputs": [],
   "source": [
    "def get_edge_indices(cur_id, neighbors):\n",
    "    '''\n",
    "    Get the edge indices between all of the boxes in a municipality\n",
    "    '''\n",
    "    # Initialize with self connections\n",
    "    edge_indices = [[cur_id, cur_id]]\n",
    "\n",
    "    for n in neighbors:\n",
    "        edge_indices.append([cur_id, n])\n",
    "        edge_indices.append([n, cur_id])\n",
    "\n",
    "    return edge_indices\n",
    "\n",
    "# print(len(all_ims))"
   ]
  },
  {
   "cell_type": "code",
   "execution_count": 165,
   "metadata": {},
   "outputs": [],
   "source": [
    "import numpy as np\n",
    "import torch"
   ]
  },
  {
   "cell_type": "code",
   "execution_count": 316,
   "metadata": {},
   "outputs": [],
   "source": [
    "def get_x(shapeID, NEIGHBORS, dta):\n",
    "    to_return = []\n",
    "    to_return.append(dta[dta['GEO2_MX'] == shapeID].drop(['GEO2_MX', 'sum_num_intmig'], axis = 1).values[0])\n",
    "    for i in NEIGHBORS:\n",
    "        # print(i)\n",
    "        if len(dta[dta['GEO2_MX'] == i]['sum_num_intmig'].values) != 0:\n",
    "            to_return.append(dta[dta['GEO2_MX'] == i].drop(['GEO2_MX', 'sum_num_intmig'], axis = 1).values[0])\n",
    "        else:\n",
    "            to_return.append(np.array([0,0,0,0]))\n",
    "\n",
    "    to_return = [i.tolist() for i in to_return]\n",
    "    return np.array(to_return)\n",
    "\n",
    "\n",
    "def get_edge_indices(cur_id, neighbors):\n",
    "    '''\n",
    "    Get the edge indices between all of the boxes in a municipality\n",
    "    '''\n",
    "\n",
    "    # print(cur_id, neighbors)\n",
    "\n",
    "    edge_dict = {}\n",
    "    edge_dict[cur_id] = 0\n",
    "    for i in range(0, len(neighbors)):\n",
    "        edge_dict[neighbors[i]] = i\n",
    "    # print(edge_dict)\n",
    "\n",
    "    # # Initialize with self connections\n",
    "    edge_indices = [[edge_dict[cur_id], edge_dict[cur_id]]]\n",
    "\n",
    "    for n in neighbors:\n",
    "        edge_indices.append([edge_dict[cur_id], edge_dict[n]])\n",
    "        edge_indices.append([edge_dict[n], edge_dict[cur_id]])\n",
    "\n",
    "    # print(edge_indices)\n",
    "\n",
    "    return edge_indices"
   ]
  },
  {
   "cell_type": "code",
   "execution_count": null,
   "metadata": {},
   "outputs": [],
   "source": []
  },
  {
   "cell_type": "code",
   "execution_count": 317,
   "metadata": {},
   "outputs": [],
   "source": [
    "def make_adj_list(target_id, neighbors_df, degrees):\n",
    "\n",
    "    # print(\"TARGET: \", target_id)\n",
    "    final_list = []\n",
    "    target_neighbors = neighbors_df[neighbors_df['shapeID'] == target_id]['NEIGHBORS'].str.split(\", \").values.tolist()[0]\n",
    "    final_list.append(target_neighbors)\n",
    "    for n in target_neighbors:\n",
    "        cur_neighbors = neighbors_df[neighbors_df['shapeID'] == n]['NEIGHBORS'].str.split(\", \").values.tolist()[0]\n",
    "        final_list.append(cur_neighbors)\n",
    "\n",
    "    unique_list = list(set([item for sublist in final_list for item in sublist]))\n",
    "    id_dict = dict(zip(unique_list, [i for i in range(len(unique_list))]))\n",
    "\n",
    "    max_list = 0\n",
    "    for i in final_list:\n",
    "        if len(i) > max_list:\n",
    "            max_list = len(i)\n",
    "\n",
    "\n",
    "    to_fill = np.full((len(final_list), max_list), -99)\n",
    "\n",
    "    for i in range(0, len(final_list)):\n",
    "        for j in range(0, len(final_list[i])):\n",
    "            to_fill[i][j] = id_dict[final_list[i][j]]\n",
    "\n",
    "    return to_fill\n",
    "\n"
   ]
  },
  {
   "cell_type": "code",
   "execution_count": 318,
   "metadata": {},
   "outputs": [],
   "source": [
    "# gdf.head()"
   ]
  },
  {
   "source": [
    "DEGREES = 1\n",
    "\n",
    "all_x, all_adj_list = [], []\n",
    "\n",
    "for col, row in gdf[0:5].iterrows():\n",
    "\n",
    "    try:\n",
    "\n",
    "        cur_adj_list = make_adj_list(row.shapeID, gdf, DEGREES)\n",
    "        all_adj_list.append(cur_adj_list)\n",
    "\n",
    "        cur_x = get_x(row.shapeID, row.NEIGHBORS.split(\", \"), df)\n",
    "        all_x.append(cur_x)\n",
    "\n",
    "    except:\n",
    "        pass\n"
   ],
   "cell_type": "code",
   "metadata": {
    "tags": []
   },
   "execution_count": 323,
   "outputs": []
  },
  {
   "cell_type": "code",
   "execution_count": 324,
   "metadata": {},
   "outputs": [
    {
     "output_type": "execute_result",
     "data": {
      "text/plain": [
       "[array([[3.99842564e+09, 4.59510000e+04, 6.76807904e-03, 2.69852669e-01],\n",
       "        [0.00000000e+00, 0.00000000e+00, 0.00000000e+00, 0.00000000e+00],\n",
       "        [0.00000000e+00, 0.00000000e+00, 0.00000000e+00, 0.00000000e+00],\n",
       "        [2.23828677e+10, 8.49101000e+05, 1.87197989e-02, 8.92990351e-01],\n",
       "        [6.53055032e+09, 8.89420000e+04, 3.57536372e-03, 7.26271053e-01],\n",
       "        [0.00000000e+00, 0.00000000e+00, 0.00000000e+00, 0.00000000e+00],\n",
       "        [4.58860751e+09, 3.12040000e+04, 3.52518908e-03, 5.46276118e-01],\n",
       "        [1.99323171e+09, 1.11510000e+04, 1.34517084e-03, 4.98520312e-01],\n",
       "        [2.88038142e+09, 2.88330000e+04, 6.58967156e-03, 5.00364166e-01]]),\n",
       " array([[2.55247238e+09, 7.16400000e+03, 0.00000000e+00, 5.63930765e-01],\n",
       "        [2.07262582e+09, 2.00480000e+04, 0.00000000e+00, 4.16749800e-01],\n",
       "        [0.00000000e+00, 0.00000000e+00, 0.00000000e+00, 0.00000000e+00],\n",
       "        [6.53055032e+09, 8.89420000e+04, 3.57536372e-03, 7.26271053e-01],\n",
       "        [3.44927760e+09, 1.43020000e+04, 8.39043490e-04, 3.67221368e-01],\n",
       "        [2.90673146e+09, 1.12240000e+04, 2.40555952e-03, 6.74625802e-01],\n",
       "        [2.21021086e+09, 1.84310000e+04, 9.54912918e-03,            nan],\n",
       "        [2.57119792e+09, 6.50300000e+03, 0.00000000e+00,            nan]]),\n",
       " array([[2.07262582e+09, 2.00480000e+04, 0.00000000e+00, 4.16749800e-01],\n",
       "        [2.55247238e+09, 7.16400000e+03, 0.00000000e+00, 5.63930765e-01],\n",
       "        [3.02853905e+09, 1.00150000e+05, 1.92511233e-02, 6.69675487e-01],\n",
       "        [6.53055032e+09, 8.89420000e+04, 3.57536372e-03, 7.26271053e-01],\n",
       "        [3.04586007e+09, 5.31420000e+04, 1.13845922e-02, 4.93884310e-01],\n",
       "        [0.00000000e+00, 0.00000000e+00, 0.00000000e+00, 0.00000000e+00],\n",
       "        [2.57119792e+09, 6.50300000e+03, 0.00000000e+00,            nan]]),\n",
       " array([[3.02853905e+09, 1.00150000e+05, 1.92511233e-02, 6.69675487e-01],\n",
       "        [0.00000000e+00, 0.00000000e+00, 0.00000000e+00, 0.00000000e+00],\n",
       "        [2.07262582e+09, 2.00480000e+04, 0.00000000e+00, 4.16749800e-01],\n",
       "        [2.23828677e+10, 8.49101000e+05, 1.87197989e-02, 8.92990351e-01],\n",
       "        [6.53055032e+09, 8.89420000e+04, 3.57536372e-03, 7.26271053e-01],\n",
       "        [3.04586007e+09, 5.31420000e+04, 1.13845922e-02, 4.93884310e-01]])]"
      ]
     },
     "metadata": {},
     "execution_count": 324
    }
   ],
   "source": [
    "all_x"
   ]
  },
  {
   "cell_type": "code",
   "execution_count": null,
   "metadata": {},
   "outputs": [],
   "source": [
    "def one_degree_hotter(adj_list, already_visited):\n",
    "\n",
    "    # new_adj_list = torch.ones(adj_list.shape[0], torch.max(adj_list) * torch.max(adj_list))\n",
    "\n",
    "    for i in range(0, adj_list.shape[0]): \n",
    "        cur_nodes = adj_list[i]\n",
    "        cur_stack = torch.tensor([-99]) \n",
    "        for j in cur_nodes:\n",
    "            if j != -99:\n",
    "                nodes_to_add_in = adj_list[j]\n",
    "                for n in nodes_to_add_in:\n",
    "                    if n not in cur_stack and n not in cur_nodes and n != i and n not in already_visited[i]:\n",
    "                        cur_stack = torch.cat((cur_stack, n.unsqueeze(0)))\n",
    "        ready_to_stack = torch.nn.functional.pad(cur_stack, (0, adj_list.shape[0] - cur_stack.shape[0]), value = -99).unsqueeze(0)\n",
    "        try:\n",
    "            final_stack = torch.cat((final_stack, ready_to_stack), dim = 0)\n",
    "        except:\n",
    "            final_stack = ready_to_stack\n",
    "\n",
    "    return final_stack\n",
    "\n",
    "\n",
    "\n",
    "\n",
    "class Sage(torch.nn.Module):\n",
    "\n",
    "    def __init__(self, embed_dim, feature_dim, num_classes, K): \n",
    "        super(Sage, self).__init__()\n",
    "        '''weights is of shape [embed_dim (arbitrary), feature_dim * 2]'''\n",
    "        self.w2 = torch.nn.Parameter(torch.rand(num_classes, embed_dim), requires_grad = True)\n",
    "        self.relu = torch.nn.ReLU()\n",
    "        self.K = K\n",
    "\n",
    "        self.params  = torch.nn.ParameterDict({})\n",
    "\n",
    "        for i in range(K):\n",
    "            if i == 0:\n",
    "                feature_dim = feature_dim * 2\n",
    "            self.params[str(i)] = torch.nn.Parameter(torch.rand(embed_dim, feature_dim), requires_grad = True)\n",
    "            feature_dim = embed_dim * 2\n",
    "\n",
    "\n",
    "\n",
    "    def forward(self, x, adj_list):\n",
    "        \n",
    "        already_visited = adj_list\n",
    "\n",
    "        for degree in range(self.K):\n",
    "\n",
    "            if degree == 0:\n",
    "\n",
    "                for node in adj_list:\n",
    "                    cur_neigh_feats = torch.mean(torch.index_select(x, 0, node[node >= 0]), dim = 0).unsqueeze(0)\n",
    "                    try:\n",
    "                        neigh_feats = torch.cat((neigh_feats, cur_neigh_feats), dim = 0)\n",
    "                    except:\n",
    "                        neigh_feats = cur_neigh_feats\n",
    "\n",
    "                x = torch.cat((x, neigh_feats), dim = 1)\n",
    "                x = torch.mm(self.params[str(degree)], x.t())\n",
    "                x = self.relu(x).t()\n",
    "\n",
    "\n",
    "            else:\n",
    "\n",
    "                adj_list = one_degree_hotter(adj_list, already_visited)\n",
    "                already_visited = torch.cat((already_visited, adj_list), dim = 1)\n",
    "\n",
    "                for node in adj_list:\n",
    "                    cur_neigh_feats = torch.mean(torch.index_select(x, 0, node[node >= 0]), dim = 0).unsqueeze(0)\n",
    "                    try:\n",
    "                        neigh_feats = torch.cat((neigh_feats, cur_neigh_feats), dim = 0)\n",
    "                    except:\n",
    "                        neigh_feats = cur_neigh_feats\n",
    "\n",
    "                neigh_feats[neigh_feats != neigh_feats] = 0\n",
    "\n",
    "                x = torch.cat((x, neigh_feats), dim = 1)\n",
    "                x = torch.mm(self.params[str(degree)], x.t())\n",
    "                x = self.relu(x).t()\n",
    "\n",
    "            del neigh_feats\n",
    "\n",
    "            # print(x.shape)\n",
    "\n",
    "        # out = torch.mm(self.w2, x).t()\n",
    "\n",
    "        return x\n",
    "\n",
    "\n",
    "\n",
    "\n",
    "class sage_net(torch.nn.Module):\n",
    "\n",
    "    def __init__(self, embed_dim, feature_dim, num_classes, K): \n",
    "        super(sage_net, self).__init__()\n",
    "        self.s1 = Sage(embed_dim, feature_dim, num_classes, K)\n",
    "        self.s2 = Sage(32, embed_dim, num_classes, K)\n",
    "        # self.fc = torch.nn.Linear()\n",
    "\n",
    "    def forward(self, x):\n",
    "\n",
    "        x, adj_list = x[0], x[1]\n",
    "\n",
    "        out = self.s1(x, adj_list)\n",
    "        out = self.s2(out, adj_list)\n",
    "        # print(out.shape)\n",
    "        out = torch.mean(out)\n",
    "\n",
    "        # print(out)\n",
    "\n",
    "        return out"
   ]
  }
 ]
}