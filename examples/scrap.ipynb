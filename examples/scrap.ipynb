{
 "metadata": {
  "language_info": {
   "codemirror_mode": {
    "name": "ipython",
    "version": 3
   },
   "file_extension": ".py",
   "mimetype": "text/x-python",
   "name": "python",
   "nbconvert_exporter": "python",
   "pygments_lexer": "ipython3",
   "version": "3.6.12"
  },
  "orig_nbformat": 2,
  "kernelspec": {
   "name": "caoe",
   "display_name": "caoe",
   "language": "python"
  }
 },
 "nbformat": 4,
 "nbformat_minor": 2,
 "cells": [
  {
   "cell_type": "code",
   "execution_count": 1,
   "metadata": {},
   "outputs": [],
   "source": [
    "import torch"
   ]
  },
  {
   "cell_type": "code",
   "execution_count": 2,
   "metadata": {},
   "outputs": [
    {
     "output_type": "execute_result",
     "data": {
      "text/plain": [
       "'\\n    1) Each node v ∈ V aggregates the representations of the nodes in its immediate neighborhood, into a single vector (Note that this aggregation\\nstep depends on the representations generated at the previous iteration of the outer loop and the k = 0 (“base case”) representations are defined as the input node features)\\n    2) After aggregating the neighboring feature vectors, GraphSAGE then concatenates the node’s current representation with the aggregated neighborhood vector ... torch.cat((node_features, neighbor_features), dim = 1)\\n    3) This concatenated vector is fed through a fully connected layer with nonlinear activation function σ, which transforms the representations to be used at the next step of the algorithm\\n'"
      ]
     },
     "metadata": {},
     "execution_count": 2
    }
   ],
   "source": [
    "\"\"\"\n",
    "    1) Each node v ∈ V aggregates the representations of the nodes in its immediate neighborhood, into a single vector (Note that this aggregation\n",
    "step depends on the representations generated at the previous iteration of the outer loop and the k = 0 (“base case”) representations are defined as the input node features)\n",
    "    2) After aggregating the neighboring feature vectors, GraphSAGE then concatenates the node’s current representation with the aggregated neighborhood vector ... torch.cat((node_features, neighbor_features), dim = 1)\n",
    "    3) This concatenated vector is fed through a fully connected layer with nonlinear activation function σ, which transforms the representations to be used at the next step of the algorithm\n",
    "\"\"\""
   ]
  },
  {
   "cell_type": "code",
   "execution_count": 3,
   "metadata": {},
   "outputs": [],
   "source": [
    "x = torch.rand(5,2, requires_grad = True, dtype = torch.float32)\n",
    "adj_list = torch.tensor(\n",
    "                        [[1,2,3,-99],\n",
    "                         [0,3,-99,-99],\n",
    "                         [0,3,4,-99],\n",
    "                         [0,1,2,4],\n",
    "                         [2,3,-99,-99]]\n",
    "                         \n",
    "                         )"
   ]
  },
  {
   "cell_type": "code",
   "execution_count": 4,
   "metadata": {},
   "outputs": [],
   "source": [
    "def one_degree_hotter(adj_list, already_visited):\n",
    "\n",
    "    # new_adj_list = torch.ones(adj_list.shape[0], torch.max(adj_list) * torch.max(adj_list))\n",
    "\n",
    "    for i in range(0, adj_list.shape[0]): \n",
    "        cur_nodes = adj_list[i]\n",
    "        cur_stack = torch.tensor([-99]) \n",
    "        for j in cur_nodes:\n",
    "            if j != -99:\n",
    "                nodes_to_add_in = adj_list[j]\n",
    "                for n in nodes_to_add_in:\n",
    "                    if n not in cur_stack and n not in cur_nodes and n != i and n not in already_visited[i]:\n",
    "                        cur_stack = torch.cat((cur_stack, n.unsqueeze(0)))\n",
    "        ready_to_stack = torch.nn.functional.pad(cur_stack, (0, adj_list.shape[0] - cur_stack.shape[0]), value = -99).unsqueeze(0)\n",
    "        try:\n",
    "            final_stack = torch.cat((final_stack, ready_to_stack), dim = 0)\n",
    "        except:\n",
    "            final_stack = ready_to_stack\n",
    "\n",
    "    return final_stack\n"
   ]
  },
  {
   "cell_type": "code",
   "execution_count": 5,
   "metadata": {},
   "outputs": [],
   "source": [
    "class Sage(torch.nn.Module):\n",
    "\n",
    "    def __init__(self, embed_dim, feature_dim, num_classes, K): \n",
    "        super(Sage, self).__init__()\n",
    "        '''weights is of shape [embed_dim (arbitrary), feature_dim * 2]'''\n",
    "        self.w2 = torch.nn.Parameter(torch.rand(num_classes, embed_dim), requires_grad = True)\n",
    "        self.relu = torch.nn.ReLU()\n",
    "        self.K = K\n",
    "\n",
    "        self.params  = torch.nn.ParameterDict({})\n",
    "\n",
    "        for i in range(K):\n",
    "            if i == 0:\n",
    "                feature_dim = feature_dim * 2\n",
    "            self.params[str(i)] = torch.nn.Parameter(torch.rand(embed_dim, feature_dim), requires_grad = True)\n",
    "            feature_dim = embed_dim * 2\n",
    "\n",
    "\n",
    "\n",
    "    def forward(self, x, adj_list):\n",
    "        \n",
    "        already_visited = adj_list\n",
    "\n",
    "        for degree in range(self.K):\n",
    "\n",
    "            if degree == 0:\n",
    "\n",
    "                for node in adj_list:\n",
    "                    cur_neigh_feats = torch.mean(torch.index_select(x, 0, node[node >= 0]), dim = 0).unsqueeze(0)\n",
    "                    try:\n",
    "                        neigh_feats = torch.cat((neigh_feats, cur_neigh_feats), dim = 0)\n",
    "                    except:\n",
    "                        neigh_feats = cur_neigh_feats\n",
    "\n",
    "                x = torch.cat((x, neigh_feats), dim = 1)\n",
    "                x = torch.mm(self.params[str(degree)], x.t())\n",
    "                x = self.relu(x).t()\n",
    "\n",
    "\n",
    "            else:\n",
    "\n",
    "                adj_list = one_degree_hotter(adj_list, already_visited)\n",
    "                already_visited = torch.cat((already_visited, adj_list), dim = 1)\n",
    "\n",
    "                for node in adj_list:\n",
    "                    cur_neigh_feats = torch.mean(torch.index_select(x, 0, node[node >= 0]), dim = 0).unsqueeze(0)\n",
    "                    try:\n",
    "                        neigh_feats = torch.cat((neigh_feats, cur_neigh_feats), dim = 0)\n",
    "                    except:\n",
    "                        neigh_feats = cur_neigh_feats\n",
    "\n",
    "                neigh_feats[neigh_feats != neigh_feats] = 0\n",
    "\n",
    "                x = torch.cat((x, neigh_feats), dim = 1)\n",
    "                x = torch.mm(self.params[str(degree)], x.t())\n",
    "                x = self.relu(x).t()\n",
    "\n",
    "            del neigh_feats\n",
    "\n",
    "            # print(x.shape)\n",
    "\n",
    "        # out = torch.mm(self.w2, x).t()\n",
    "\n",
    "        return x"
   ]
  },
  {
   "cell_type": "code",
   "execution_count": 6,
   "metadata": {},
   "outputs": [],
   "source": [
    "class sage_net(torch.nn.Module):\n",
    "\n",
    "    def __init__(self, embed_dim, feature_dim, num_classes, K): \n",
    "        super(sage_net, self).__init__()\n",
    "        self.s1 = Sage(embed_dim, feature_dim, num_classes, K)\n",
    "        self.s2 = Sage(32, embed_dim, num_classes, K)\n",
    "        # self.fc = torch.nn.Linear()\n",
    "\n",
    "    def forward(self, x):\n",
    "\n",
    "        x, adj_list = x[0], x[1]\n",
    "\n",
    "        out = self.s1(x, adj_list)\n",
    "        out = self.s2(out, adj_list)\n",
    "        # print(out.shape)\n",
    "        out = torch.mean(out)\n",
    "\n",
    "        # print(out)\n",
    "\n",
    "        return out"
   ]
  },
  {
   "cell_type": "code",
   "execution_count": 7,
   "metadata": {},
   "outputs": [],
   "source": [
    "x = torch.tensor([[1.0000, 1.0000, 0.0396, 0.9787],\n",
    "        [0.5366, 0.5700, 0.1209, 0.5313],\n",
    "        [0.2313, 0.2818, 0.1446, 0.4948],\n",
    "        [0.2336, 0.0585, 0.2096, 0.8928]], dtype = torch.float32, requires_grad = True)\n",
    "y = torch.tensor([345.], dtype = torch.float32, requires_grad = True)\n",
    "\n",
    "adj_list = torch.tensor([[1,3,-99],\n",
    "            [0,2,3],\n",
    "            [1,3,-99],\n",
    "            [0,1,2]])\n",
    "\n"
   ]
  },
  {
   "cell_type": "code",
   "execution_count": 8,
   "metadata": {},
   "outputs": [
    {
     "output_type": "stream",
     "name": "stdout",
     "text": [
      "124355240.0\n",
      "20678108.0\n",
      "2055595.625\n",
      "81643.2421875\n",
      "155.550537109375\n",
      "ehre\n",
      "89.9403076171875\n",
      "ehre\n",
      "ehre\n",
      "tensor(255.0597, grad_fn=<MeanBackward0>)\n",
      "/Users/heatherbaier/anaconda/envs/caoe/lib/python3.6/site-packages/torch/nn/modules/loss.py:96: UserWarning: Using a target size (torch.Size([1])) that is different to the input size (torch.Size([])). This will likely lead to incorrect results due to broadcasting. Please ensure they have the same size.\n",
      "  return F.l1_loss(input, target, reduction=self.reduction)\n"
     ]
    }
   ],
   "source": [
    "model = sage_net(embed_dim = 16, feature_dim = 4, num_classes = 1, K = 4)\n",
    "criterion = torch.nn.L1Loss()\n",
    "optimizer = torch.optim.Adam(model.parameters(), lr = 0.1)\n",
    "lr = .1\n",
    "\n",
    "input = (x, adj_list)\n",
    "\n",
    "for i in range(0, 100):\n",
    "\n",
    "\n",
    "\n",
    "    pred = model(input)\n",
    "\n",
    "    loss = criterion(pred, y)\n",
    "\n",
    "    print(loss.item())\n",
    "\n",
    "    if loss < 300:\n",
    "        print('ehre')\n",
    "        lr = lr * .1\n",
    "        optimizer = torch.optim.Adam(model.parameters(), lr = lr)\n",
    "        # break\n",
    "\n",
    "\n",
    "    if loss < 100:\n",
    "        print('ehre')\n",
    "        lr = lr * .5\n",
    "        optimizer = torch.optim.Adam(model.parameters(), lr = lr)\n",
    "        break\n",
    "    \n",
    "\n",
    "    loss.backward()\n",
    "\n",
    "    optimizer.step()\n",
    "\n",
    "print(pred)"
   ]
  },
  {
   "cell_type": "code",
   "execution_count": null,
   "metadata": {},
   "outputs": [],
   "source": []
  }
 ]
}