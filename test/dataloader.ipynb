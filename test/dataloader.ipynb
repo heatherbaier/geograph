{
 "metadata": {
  "language_info": {
   "codemirror_mode": {
    "name": "ipython",
    "version": 3
   },
   "file_extension": ".py",
   "mimetype": "text/x-python",
   "name": "python",
   "nbconvert_exporter": "python",
   "pygments_lexer": "ipython3",
   "version": "3.7.10"
  },
  "orig_nbformat": 2,
  "kernelspec": {
   "name": "python3710jvsc74a57bd06e6e7e11ff29b7ea88d93fdd1bf54ac8bd20e793b837d22d51eef8412ed09bee",
   "display_name": "Python 3.7.10 64-bit ('caoe': conda)"
  }
 },
 "nbformat": 4,
 "nbformat_minor": 2,
 "cells": [
  {
   "cell_type": "code",
   "execution_count": 1,
   "metadata": {},
   "outputs": [
    {
     "output_type": "stream",
     "name": "stderr",
     "text": [
      "/home/hbaier/anaconda3/envs/caoe/lib/python3.7/site-packages/geopandas/_compat.py:110: UserWarning: The Shapely GEOS version (3.8.0-CAPI-1.13.1 ) is incompatible with the GEOS version PyGEOS was compiled with (3.9.0-CAPI-1.16.2). Conversions between both will be slow.\n  shapely_geos_version, geos_capi_version_string\n"
     ]
    }
   ],
   "source": [
    "import landsat_prep as lp\n",
    "import geograph as gg\n",
    "import random"
   ]
  },
  {
   "cell_type": "code",
   "execution_count": 2,
   "metadata": {},
   "outputs": [],
   "source": [
    "# Set variables\n",
    "ISO = \"MEX\"\n",
    "ADM_ID = \"MEX-ADM2-1590546715-B7\"\n",
    "IC = \"LANDSAT/LT05/C01/T1\"\n",
    "YEAR = \"2010\"\n",
    "MONTH = \"1\"\n",
    "GB_PATH = \"./data/MEX/MEX_ADM2_fixedInternalTopology.shp\""
   ]
  },
  {
   "cell_type": "code",
   "execution_count": 3,
   "metadata": {},
   "outputs": [
    {
     "output_type": "stream",
     "name": "stdout",
     "text": [
      "Making request to:  https://www.geoboundaries.org/gbRequest.html?ISO=MEX&ADM=ADM2\n",
      "Downloading data from:  https://geoboundaries.org/data/geoBoundaries-3_0_0/MEX/ADM2/geoBoundaries-3_0_0-MEX-ADM2-all.zip\n",
      "Downloading data into:  ./data/MEX\n",
      "Done downloading boundary data.\n"
     ]
    }
   ],
   "source": [
    "lp.downloadGB(iso = \"MEX\", \n",
    "              adm = \"2\")"
   ]
  },
  {
   "cell_type": "code",
   "execution_count": 4,
   "metadata": {},
   "outputs": [],
   "source": [
    "ADM_ID = \"MEX-ADM2-1590546715-B7\"\n",
    "lp.prep_landsat(GB_PATH, ISO, ADM_ID, \"2010\", \"1\", IC, v = False)"
   ]
  },
  {
   "cell_type": "code",
   "execution_count": 5,
   "metadata": {},
   "outputs": [],
   "source": [
    "ADM_ID = \"MEX-ADM2-1590546715-B10\"\n",
    "lp.prep_landsat(GB_PATH, ISO, ADM_ID, \"2010\", \"1\", IC, v = False)"
   ]
  },
  {
   "cell_type": "code",
   "execution_count": 19,
   "metadata": {},
   "outputs": [
    {
     "output_type": "stream",
     "name": "stdout",
     "text": [
      "[[0], [1]]\n\n"
     ]
    },
    {
     "output_type": "execute_result",
     "data": {
      "text/plain": [
       "<__main__.GraphLoader at 0x7f86f159e6d0>"
      ]
     },
     "metadata": {},
     "execution_count": 19
    }
   ],
   "source": [
    "class GraphLoader():\n",
    "\n",
    "    class Dataset():\n",
    "        def __init__(self, y):\n",
    "            self.y = y\n",
    "\n",
    "    def __init__(self, data_dir, iso, batch_size):\n",
    "\n",
    "        self.iso = iso\n",
    "        self.data_dir = data_dir\n",
    "        self.batch_size = batch_size\n",
    "        self.munis = [i for i in os.listdir(self.data_dir) if i != self.iso]\n",
    "\n",
    "        self.image_graphs = [gg.ImageGraph(i) for i in self.munis] \n",
    "\n",
    "        self.indexes = [i for i in range(0, len(self.munis))]\n",
    "        # self.indexes = [i for i in range(0, 20)]\n",
    "        random.shuffle(self.indexes)\n",
    "        self.indexes = [self.indexes[i:i + self.batch_size] for i in range(0, len(self.indexes), self.batch_size)]\n",
    "\n",
    "        for batch in self.indexes:\n",
    "            self.load_graph(self.image)\n",
    "\n",
    "        print(self.indexes)\n",
    "\n",
    "        # self.GraphLoader = [self.Dataset(i.x) for i in self.image_graphs]\n",
    "\n",
    "        # print(self.GraphLoader[0])\n",
    "\n",
    "        # print([i.x.shape for i in self.image_graphs])\n",
    "\n",
    "    def load_graph(self, shapeID):\n",
    "\n",
    "        imagery_dir = os.path.join(self.data_dir, shapeID, \"pngs\")\n",
    "        imagery_files = os.listdir(imagery_dir)\n",
    "\n",
    "\n",
    "\n",
    "\n",
    "        print()\n",
    "\n",
    "GraphLoader(\"./data/\", \"MEX\", 1)"
   ]
  },
  {
   "cell_type": "code",
   "execution_count": null,
   "metadata": {},
   "outputs": [],
   "source": []
  },
  {
   "cell_type": "code",
   "execution_count": null,
   "metadata": {},
   "outputs": [],
   "source": []
  },
  {
   "cell_type": "code",
   "execution_count": null,
   "metadata": {},
   "outputs": [],
   "source": []
  },
  {
   "cell_type": "code",
   "execution_count": null,
   "metadata": {},
   "outputs": [],
   "source": []
  },
  {
   "cell_type": "code",
   "execution_count": null,
   "metadata": {},
   "outputs": [],
   "source": []
  },
  {
   "cell_type": "code",
   "execution_count": null,
   "metadata": {},
   "outputs": [],
   "source": []
  },
  {
   "cell_type": "code",
   "execution_count": null,
   "metadata": {},
   "outputs": [],
   "source": []
  }
 ]
}