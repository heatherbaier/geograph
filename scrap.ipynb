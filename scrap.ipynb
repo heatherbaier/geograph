{
 "metadata": {
  "language_info": {
   "codemirror_mode": {
    "name": "ipython",
    "version": 3
   },
   "file_extension": ".py",
   "mimetype": "text/x-python",
   "name": "python",
   "nbconvert_exporter": "python",
   "pygments_lexer": "ipython3",
   "version": "3.7.10"
  },
  "orig_nbformat": 2,
  "kernelspec": {
   "name": "python3710jvsc74a57bd0995687d7f2eae2b6c29ae610e582e615f4f52787bceb981821a0d543c6e64119",
   "display_name": "Python 3.7.10 64-bit ('geom7': conda)"
  }
 },
 "nbformat": 4,
 "nbformat_minor": 2,
 "cells": [
  {
   "cell_type": "code",
   "execution_count": 1,
   "metadata": {},
   "outputs": [],
   "source": [
    "import torch"
   ]
  },
  {
   "cell_type": "code",
   "execution_count": 2,
   "metadata": {},
   "outputs": [
    {
     "output_type": "execute_result",
     "data": {
      "text/plain": [
       "'\\n    1) Each node v ∈ V aggregates the representations of the nodes in its immediate neighborhood, into a single vector (Note that this aggregation\\nstep depends on the representations generated at the previous iteration of the outer loop and the k = 0 (“base case”) representations are defined as the input node features)\\n    2) After aggregating the neighboring feature vectors, GraphSAGE then concatenates the node’s current representation with the aggregated neighborhood vector ... torch.cat((node_features, neighbor_features), dim = 1)\\n    3) This concatenated vector is fed through a fully connected layer with nonlinear activation function σ, which transforms the representations to be used at the next step of the algorithm\\n'"
      ]
     },
     "metadata": {},
     "execution_count": 2
    }
   ],
   "source": [
    "\"\"\"\n",
    "    1) Each node v ∈ V aggregates the representations of the nodes in its immediate neighborhood, into a single vector (Note that this aggregation\n",
    "step depends on the representations generated at the previous iteration of the outer loop and the k = 0 (“base case”) representations are defined as the input node features)\n",
    "    2) After aggregating the neighboring feature vectors, GraphSAGE then concatenates the node’s current representation with the aggregated neighborhood vector ... torch.cat((node_features, neighbor_features), dim = 1)\n",
    "    3) This concatenated vector is fed through a fully connected layer with nonlinear activation function σ, which transforms the representations to be used at the next step of the algorithm\n",
    "\"\"\""
   ]
  },
  {
   "cell_type": "code",
   "execution_count": 41,
   "metadata": {},
   "outputs": [],
   "source": [
    "x = torch.rand(5,2, requires_grad = True, dtype = torch.float32)\n",
    "adj_list = torch.tensor(\n",
    "                        [[1,2,3,-99],\n",
    "                         [0,3,-99,-99],\n",
    "                         [0,3,4,-99],\n",
    "                         [0,1,2,4],\n",
    "                         [2,3,-99,-99]]\n",
    "                         \n",
    "                         )"
   ]
  },
  {
   "cell_type": "code",
   "execution_count": 109,
   "metadata": {},
   "outputs": [],
   "source": [
    "def one_degree_hotter(adj_list, already_visited):\n",
    "\n",
    "    # new_adj_list = torch.ones(adj_list.shape[0], torch.max(adj_list) * torch.max(adj_list))\n",
    "\n",
    "    for i in range(0, adj_list.shape[0]): \n",
    "        cur_nodes = adj_list[i]\n",
    "        cur_stack = torch.tensor([-99]) \n",
    "        for j in cur_nodes:\n",
    "            if j != -99:\n",
    "                nodes_to_add_in = adj_list[j]\n",
    "                for n in nodes_to_add_in:\n",
    "                    if n not in cur_stack and n not in cur_nodes and n != i and n not in already_visited[i]:\n",
    "                        cur_stack = torch.cat((cur_stack, n.unsqueeze(0)))\n",
    "        ready_to_stack = torch.nn.functional.pad(cur_stack, (0, adj_list.shape[0] - cur_stack.shape[0]), value = -99).unsqueeze(0)\n",
    "        try:\n",
    "            final_stack = torch.cat((final_stack, ready_to_stack), dim = 0)\n",
    "        except:\n",
    "            final_stack = ready_to_stack\n",
    "\n",
    "    return final_stack\n"
   ]
  },
  {
   "cell_type": "code",
   "execution_count": null,
   "metadata": {},
   "outputs": [],
   "source": []
  },
  {
   "cell_type": "code",
   "execution_count": 110,
   "metadata": {},
   "outputs": [
    {
     "output_type": "error",
     "ename": "TypeError",
     "evalue": "one_degree_hotter() missing 1 required positional argument: 'already_visited'",
     "traceback": [
      "\u001b[0;31m---------------------------------------------------------------------------\u001b[0m",
      "\u001b[0;31mTypeError\u001b[0m                                 Traceback (most recent call last)",
      "\u001b[0;32m<ipython-input-110-a3ba64a2ff27>\u001b[0m in \u001b[0;36m<module>\u001b[0;34m\u001b[0m\n\u001b[0;32m----> 1\u001b[0;31m \u001b[0mtest\u001b[0m \u001b[0;34m=\u001b[0m \u001b[0mone_degree_hotter\u001b[0m\u001b[0;34m(\u001b[0m\u001b[0madj_list\u001b[0m\u001b[0;34m)\u001b[0m\u001b[0;34m\u001b[0m\u001b[0;34m\u001b[0m\u001b[0m\n\u001b[0m\u001b[1;32m      2\u001b[0m \u001b[0mtest\u001b[0m\u001b[0;34m\u001b[0m\u001b[0;34m\u001b[0m\u001b[0m\n",
      "\u001b[0;31mTypeError\u001b[0m: one_degree_hotter() missing 1 required positional argument: 'already_visited'"
     ]
    }
   ],
   "source": [
    "test = one_degree_hotter(adj_list)\n",
    "test\n"
   ]
  },
  {
   "cell_type": "code",
   "execution_count": 111,
   "metadata": {},
   "outputs": [
    {
     "output_type": "error",
     "ename": "TypeError",
     "evalue": "one_degree_hotter() missing 1 required positional argument: 'already_visited'",
     "traceback": [
      "\u001b[0;31m---------------------------------------------------------------------------\u001b[0m",
      "\u001b[0;31mTypeError\u001b[0m                                 Traceback (most recent call last)",
      "\u001b[0;32m<ipython-input-111-a8d0d1520ff3>\u001b[0m in \u001b[0;36m<module>\u001b[0;34m\u001b[0m\n\u001b[0;32m----> 1\u001b[0;31m \u001b[0mtest2\u001b[0m \u001b[0;34m=\u001b[0m \u001b[0mone_degree_hotter\u001b[0m\u001b[0;34m(\u001b[0m\u001b[0mtest\u001b[0m\u001b[0;34m)\u001b[0m\u001b[0;34m\u001b[0m\u001b[0;34m\u001b[0m\u001b[0m\n\u001b[0m\u001b[1;32m      2\u001b[0m \u001b[0mtest2\u001b[0m\u001b[0;34m\u001b[0m\u001b[0;34m\u001b[0m\u001b[0m\n",
      "\u001b[0;31mTypeError\u001b[0m: one_degree_hotter() missing 1 required positional argument: 'already_visited'"
     ]
    }
   ],
   "source": [
    "test2 = one_degree_hotter(test)\n",
    "test2\n"
   ]
  },
  {
   "cell_type": "code",
   "execution_count": 308,
   "metadata": {},
   "outputs": [],
   "source": [
    "class Sage(torch.nn.Module):\n",
    "\n",
    "    def __init__(self, embed_dim, feature_dim, num_classes, K): \n",
    "        super(Sage, self).__init__()\n",
    "        '''weights is of shape [embed_dim (arbitrary), feature_dim * 2]'''\n",
    "        self.w1 = torch.nn.Parameter(torch.rand(embed_dim, feature_dim * 2), requires_grad = True)\n",
    "        self.w2 = torch.nn.Parameter(torch.rand(num_classes, embed_dim), requires_grad = True)\n",
    "        self.relu = torch.nn.ReLU()\n",
    "        self.K = K\n",
    "\n",
    "        self.params  = torch.nn.ParameterDict({})\n",
    "\n",
    "        new_dim = embed_dim * 4\n",
    "        for i in range(K):\n",
    "            # if i == 1:\n",
    "            # embed_dim = embed_dim\n",
    "            # feature_dim = feature_dim * 2\n",
    "            self.params[str(i)] = torch.nn.Parameter(torch.rand(embed_dim, feature_dim * 2), requires_grad = True)\n",
    "            # else:\n",
    "            #     self.params[str(i)] = torch.nn.Parameter(torch.rand(embed_dim, feature_dim), requires_grad = True)\n",
    "            \n",
    "            # else:\n",
    "                # embed_dim\n",
    "                # self.params[str(i)] = torch.nn.Parameter(torch.rand(embed_dim, feature_dim * 2), requires_grad = True)\n",
    "\n",
    "        print(self.params)\n",
    "\n",
    "\n",
    "    def forward(self, x, adj_list):\n",
    "\n",
    "        \n",
    "\n",
    "        \n",
    "\n",
    "        already_visited = adj_list\n",
    "\n",
    "        # print(already_visited)\n",
    "\n",
    "        for degree in range(self.K):\n",
    "\n",
    "            # print(\"DEGREE: \", degree)\n",
    "\n",
    "            if degree == 0:\n",
    "\n",
    "\n",
    "                for node in adj_list:\n",
    "                    cur_neigh_feats = torch.mean(torch.index_select(x, 0, node[node >= 0]), dim = 0).unsqueeze(0)\n",
    "                    try:\n",
    "                        neigh_feats = torch.cat((neigh_feats, cur_neigh_feats), dim = 0)\n",
    "                    except:\n",
    "                        neigh_feats = cur_neigh_feats\n",
    "\n",
    "                x = torch.cat((x, neigh_feats), dim = 1)\n",
    "                x = torch.mm(self.params[str(degree)], x.t())\n",
    "                x = self.relu(x).t()\n",
    "\n",
    "            else:\n",
    "\n",
    "                adj_list = one_degree_hotter(adj_list, already_visited)\n",
    "                already_visited = torch.cat((already_visited, adj_list), dim = 1)\n",
    "\n",
    "                for node in adj_list:\n",
    "                    cur_neigh_feats = torch.mean(torch.index_select(x, 0, node[node >= 0]), dim = 0).unsqueeze(0)\n",
    "                    try:\n",
    "                        neigh_feats = torch.cat((neigh_feats, cur_neigh_feats), dim = 0)\n",
    "                    except:\n",
    "                        neigh_feats = cur_neigh_feats\n",
    "\n",
    "                neigh_feats[neigh_feats != neigh_feats] = 0\n",
    "                \n",
    "\n",
    "                x = torch.cat((x, neigh_feats), dim = 1)\n",
    "                x = torch.mm(self.params[str(degree)], x.t())\n",
    "                x = self.relu(x).t()\n",
    "\n",
    "\n",
    "            del neigh_feats\n",
    "\n",
    "\n",
    "        out = torch.mm(self.w2, x).t()\n",
    "\n",
    "        return out"
   ]
  },
  {
   "cell_type": "code",
   "execution_count": 309,
   "metadata": {},
   "outputs": [],
   "source": [
    "class sage_net(torch.nn.Module):\n",
    "\n",
    "    def __init__(self, embed_dim, feature_dim, num_classes, K): \n",
    "        super(sage_net, self).__init__()\n",
    "        self.s = Sage(embed_dim, feature_dim, num_classes, K)\n",
    "        # self.fc = torch.nn.Linear(4, 1)\n",
    "\n",
    "    def forward(self, x):\n",
    "\n",
    "        x, adj_list = x[0], x[1]\n",
    "\n",
    "        out = self.s(x, adj_list)\n",
    "        out = torch.mean(out)\n",
    "\n",
    "        return out"
   ]
  },
  {
   "cell_type": "code",
   "execution_count": 310,
   "metadata": {},
   "outputs": [],
   "source": [
    "x = torch.tensor([[1.0000, 1.0000, 0.0396, 0.9787],\n",
    "        [0.5366, 0.5700, 0.1209, 0.5313],\n",
    "        [0.2313, 0.2818, 0.1446, 0.4948],\n",
    "        [0.2336, 0.0585, 0.2096, 0.8928]], dtype = torch.float32, requires_grad = True)\n",
    "y = torch.tensor([345.], dtype = torch.float32, requires_grad = True)\n",
    "\n",
    "adj_list = torch.tensor([[1,3,-99],\n",
    "            [0,2,3],\n",
    "            [1,3,-99],\n",
    "            [0,1,2]])\n",
    "\n"
   ]
  },
  {
   "cell_type": "code",
   "execution_count": 312,
   "metadata": {},
   "outputs": [
    {
     "output_type": "stream",
     "name": "stdout",
     "text": [
      "ParameterDict(\n    (0): Parameter containing: [torch.FloatTensor of size 16x8]\n    (1): Parameter containing: [torch.FloatTensor of size 16x8]\n    (2): Parameter containing: [torch.FloatTensor of size 16x8]\n    (3): Parameter containing: [torch.FloatTensor of size 16x8]\n    (4): Parameter containing: [torch.FloatTensor of size 16x8]\n    (5): Parameter containing: [torch.FloatTensor of size 16x8]\n    (6): Parameter containing: [torch.FloatTensor of size 16x8]\n    (7): Parameter containing: [torch.FloatTensor of size 16x8]\n    (8): Parameter containing: [torch.FloatTensor of size 16x8]\n    (9): Parameter containing: [torch.FloatTensor of size 16x8]\n)\n"
     ]
    }
   ],
   "source": [
    "model = sage_net(embed_dim = 16, feature_dim = 4, num_classes = 1, K = 10)\n"
   ]
  },
  {
   "cell_type": "code",
   "execution_count": 316,
   "metadata": {},
   "outputs": [
    {
     "output_type": "stream",
     "name": "stdout",
     "text": [
      "ParameterDict(\n    (0): Parameter containing: [torch.FloatTensor of size 4x8]\n    (1): Parameter containing: [torch.FloatTensor of size 4x8]\n    (2): Parameter containing: [torch.FloatTensor of size 4x8]\n    (3): Parameter containing: [torch.FloatTensor of size 4x8]\n    (4): Parameter containing: [torch.FloatTensor of size 4x8]\n    (5): Parameter containing: [torch.FloatTensor of size 4x8]\n    (6): Parameter containing: [torch.FloatTensor of size 4x8]\n    (7): Parameter containing: [torch.FloatTensor of size 4x8]\n    (8): Parameter containing: [torch.FloatTensor of size 4x8]\n    (9): Parameter containing: [torch.FloatTensor of size 4x8]\n)\n1072.3824462890625\n767.51318359375\n528.5009765625\n337.11004638671875\n183.58929443359375\n61.00933837890625\n36.14581298828125\n112.39837646484375\n171.4922637939453\n216.7638397216797\n250.959716796875\n276.40728759765625\n295.4537658691406\n309.581298828125\n319.9632873535156\ntensor(25.0367, grad_fn=<MeanBackward0>)\n"
     ]
    }
   ],
   "source": [
    "model = sage_net(embed_dim = 4, feature_dim = 4, num_classes = 1, K = 10)\n",
    "criterion = torch.nn.L1Loss()\n",
    "optimizer = torch.optim.Adam(model.parameters(), lr = 0.01)\n",
    "\n",
    "input = (x, adj_list)\n",
    "\n",
    "for i in range(0, 15):\n",
    "\n",
    "    pred = model(input)\n",
    "\n",
    "    loss = criterion(pred, y)\n",
    "\n",
    "    print(loss.item())\n",
    "\n",
    "    loss.backward()\n",
    "\n",
    "    optimizer.step()\n",
    "\n",
    "print(pred)"
   ]
  },
  {
   "cell_type": "code",
   "execution_count": 46,
   "metadata": {},
   "outputs": [
    {
     "output_type": "stream",
     "name": "stdout",
     "text": [
      "tensor([[0.5918, 0.3897],\n        [0.6808, 0.2922],\n        [0.5245, 0.2379],\n        [0.5572, 0.3854],\n        [0.6808, 0.2922]])\n"
     ]
    }
   ],
   "source": [
    "try: del neigh_feats\n",
    "except: pass\n",
    "\n",
    "\n",
    "for node in adj_list:\n",
    "    cur_neigh_feats = torch.mean(torch.index_select(x, 0, node[node > 0]), dim = 0).unsqueeze(0)\n",
    "    try:\n",
    "        neigh_feats = torch.cat((neigh_feats, cur_neigh_feats), dim = 0)\n",
    "    except:\n",
    "        neigh_feats = cur_neigh_feats\n",
    "\n",
    "print(neigh_feats)\n",
    "\n",
    "\n",
    "    \n",
    "\n",
    "    # print(\"\\n\")"
   ]
  },
  {
   "cell_type": "code",
   "execution_count": 49,
   "metadata": {},
   "outputs": [
    {
     "output_type": "execute_result",
     "data": {
      "text/plain": [
       "tensor([[0.5480, 0.6868],\n",
       "        [0.3765, 0.5615],\n",
       "        [0.1179, 0.6393],\n",
       "        [0.5240, 0.5442],\n",
       "        [0.3765, 0.5615]])"
      ]
     },
     "metadata": {},
     "execution_count": 49
    }
   ],
   "source": [
    "neigh_feats"
   ]
  },
  {
   "cell_type": "code",
   "execution_count": 50,
   "metadata": {},
   "outputs": [
    {
     "output_type": "execute_result",
     "data": {
      "text/plain": [
       "tensor([[0.7804, 0.7554],\n",
       "        [0.8911, 0.9375],\n",
       "        [0.5990, 0.2697],\n",
       "        [0.1539, 0.8532],\n",
       "        [0.0819, 0.4254]])"
      ]
     },
     "metadata": {},
     "execution_count": 50
    }
   ],
   "source": [
    "x"
   ]
  },
  {
   "cell_type": "code",
   "execution_count": 53,
   "metadata": {},
   "outputs": [
    {
     "output_type": "execute_result",
     "data": {
      "text/plain": [
       "tensor([[0.7804, 0.7554, 0.5480, 0.6868],\n",
       "        [0.8911, 0.9375, 0.3765, 0.5615],\n",
       "        [0.5990, 0.2697, 0.1179, 0.6393],\n",
       "        [0.1539, 0.8532, 0.5240, 0.5442],\n",
       "        [0.0819, 0.4254, 0.3765, 0.5615]])"
      ]
     },
     "metadata": {},
     "execution_count": 53
    }
   ],
   "source": [
    "cat = torch.cat((x, neigh_feats), dim = 1)\n",
    "cat"
   ]
  },
  {
   "cell_type": "code",
   "execution_count": 66,
   "metadata": {},
   "outputs": [
    {
     "output_type": "execute_result",
     "data": {
      "text/plain": [
       "tensor([[0.7804, 0.8911, 0.5990, 0.1539, 0.0819],\n",
       "        [0.7554, 0.9375, 0.2697, 0.8532, 0.4254],\n",
       "        [0.5480, 0.3765, 0.1179, 0.5240, 0.3765],\n",
       "        [0.6868, 0.5615, 0.6393, 0.5442, 0.5615]])"
      ]
     },
     "metadata": {},
     "execution_count": 66
    }
   ],
   "source": [
    "cat.t()"
   ]
  },
  {
   "cell_type": "code",
   "execution_count": 86,
   "metadata": {},
   "outputs": [
    {
     "output_type": "execute_result",
     "data": {
      "text/plain": [
       "tensor([[-0.3884],\n",
       "        [-0.3401],\n",
       "        [-0.3273],\n",
       "        [-0.1176],\n",
       "        [-0.1519]], grad_fn=<AddmmBackward>)"
      ]
     },
     "metadata": {},
     "execution_count": 86
    }
   ],
   "source": [
    "l = torch.nn.Linear(4, 1)\n",
    "l(cat)"
   ]
  },
  {
   "cell_type": "code",
   "execution_count": 87,
   "metadata": {},
   "outputs": [
    {
     "output_type": "execute_result",
     "data": {
      "text/plain": [
       "tensor([[0.7348, 0.4718, 0.1690, 0.1551]])"
      ]
     },
     "metadata": {},
     "execution_count": 87
    }
   ],
   "source": [
    "param = torch.rand(1, 4)\n",
    "param"
   ]
  },
  {
   "cell_type": "code",
   "execution_count": 74,
   "metadata": {},
   "outputs": [
    {
     "output_type": "execute_result",
     "data": {
      "text/plain": [
       "tensor([[0.8810, 0.8597, 0.5320, 0.7657, 0.5579]])"
      ]
     },
     "metadata": {},
     "execution_count": 74
    }
   ],
   "source": [
    "param.mm(cat.t())"
   ]
  },
  {
   "cell_type": "code",
   "execution_count": 93,
   "metadata": {},
   "outputs": [],
   "source": [
    "t1 = torch.rand(128, 2866)\n",
    "t2 = torch.rand(724, 2866)\n",
    "# t3 = torch.rand(1)\n",
    "\n",
    "# torch.cat((t1, t2, t3))"
   ]
  },
  {
   "cell_type": "code",
   "execution_count": 94,
   "metadata": {},
   "outputs": [
    {
     "output_type": "execute_result",
     "data": {
      "text/plain": [
       "tensor([[0.1119, 0.2839, 0.9802,  ..., 0.1941, 0.5874, 0.9189],\n",
       "        [0.7242, 0.6031, 0.9000,  ..., 0.2070, 0.0143, 0.3608],\n",
       "        [0.2858, 0.7533, 0.4856,  ..., 0.2480, 0.1502, 0.6680],\n",
       "        ...,\n",
       "        [0.5362, 0.1371, 0.0212,  ..., 0.9871, 0.5192, 0.6612],\n",
       "        [0.3483, 0.7225, 0.5843,  ..., 0.5180, 0.6524, 0.9938],\n",
       "        [0.5438, 0.2904, 0.3011,  ..., 0.1303, 0.5327, 0.6136]])"
      ]
     },
     "metadata": {},
     "execution_count": 94
    }
   ],
   "source": [
    "t1"
   ]
  },
  {
   "cell_type": "code",
   "execution_count": 95,
   "metadata": {},
   "outputs": [
    {
     "output_type": "execute_result",
     "data": {
      "text/plain": [
       "tensor([[0.0219, 0.1333]])"
      ]
     },
     "metadata": {},
     "execution_count": 95
    }
   ],
   "source": [
    "param = torch.rand(1, 2)\n",
    "param"
   ]
  },
  {
   "cell_type": "code",
   "execution_count": 97,
   "metadata": {},
   "outputs": [
    {
     "output_type": "execute_result",
     "data": {
      "text/plain": [
       "torch.Size([128, 724])"
      ]
     },
     "metadata": {},
     "execution_count": 97
    }
   ],
   "source": [
    "t1.mm(t2.t()).shape"
   ]
  },
  {
   "cell_type": "code",
   "execution_count": 14,
   "metadata": {},
   "outputs": [
    {
     "output_type": "stream",
     "name": "stdout",
     "text": [
      "Adjacency List:\n0 -> 2\n1 -> 2\n2 -> 0 -> 1\n"
     ]
    }
   ],
   "source": [
    "from collections import defaultdict\n",
    "# converts from adjacency matrix to adjacency list\n",
    "def convert(a):\n",
    "    adjList = defaultdict(list)\n",
    "    for i in range(len(a)):\n",
    "        for j in range(len(a[i])):\n",
    "                       if a[i][j]== 1:\n",
    "                           adjList[i].append(j)\n",
    "    return adjList\n",
    "  \n",
    "# driver code\n",
    "a =[[0, 0, 1], [0, 0, 1], [1, 1, 0]] # adjacency matrix\n",
    "AdjList = convert(a)\n",
    "print(\"Adjacency List:\")\n",
    "# print the adjacency list\n",
    "for i in AdjList:\n",
    "    print(i, end =\"\")\n",
    "    for j in AdjList[i]:\n",
    "        print(\" -> {}\".format(j), end =\"\")\n",
    "    print()\n",
    "   "
   ]
  },
  {
   "cell_type": "code",
   "execution_count": null,
   "metadata": {},
   "outputs": [],
   "source": []
  }
 ]
}