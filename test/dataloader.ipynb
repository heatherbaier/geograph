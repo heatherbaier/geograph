{
 "metadata": {
  "language_info": {
   "codemirror_mode": {
    "name": "ipython",
    "version": 3
   },
   "file_extension": ".py",
   "mimetype": "text/x-python",
   "name": "python",
   "nbconvert_exporter": "python",
   "pygments_lexer": "ipython3",
   "version": "3.7.10"
  },
  "orig_nbformat": 2,
  "kernelspec": {
   "name": "python3710jvsc74a57bd06e6e7e11ff29b7ea88d93fdd1bf54ac8bd20e793b837d22d51eef8412ed09bee",
   "display_name": "Python 3.7.10 64-bit ('caoe': conda)"
  }
 },
 "nbformat": 4,
 "nbformat_minor": 2,
 "cells": [
  {
   "cell_type": "code",
   "execution_count": 1,
   "metadata": {},
   "outputs": [
    {
     "output_type": "stream",
     "name": "stderr",
     "text": [
      "/home/hbaier/anaconda3/envs/caoe/lib/python3.7/site-packages/geopandas/_compat.py:110: UserWarning: The Shapely GEOS version (3.8.0-CAPI-1.13.1 ) is incompatible with the GEOS version PyGEOS was compiled with (3.9.0-CAPI-1.16.2). Conversions between both will be slow.\n  shapely_geos_version, geos_capi_version_string\n"
     ]
    }
   ],
   "source": [
    "import landsat_prep as lp\n",
    "import geograph as gg\n",
    "import numpy as np\n",
    "import random\n",
    "import torch"
   ]
  },
  {
   "cell_type": "code",
   "execution_count": null,
   "metadata": {},
   "outputs": [],
   "source": []
  },
  {
   "cell_type": "code",
   "execution_count": 2,
   "metadata": {},
   "outputs": [],
   "source": [
    "# Set variables\n",
    "ISO = \"MEX\"\n",
    "ADM_ID = \"MEX-ADM2-1590546715-B7\"\n",
    "IC = \"LANDSAT/LT05/C01/T1\"\n",
    "YEAR = \"2010\"\n",
    "MONTH = \"1\"\n",
    "GB_PATH = \"./data/MEX/ipumns_shp.shp\""
   ]
  },
  {
   "cell_type": "code",
   "execution_count": 28,
   "metadata": {},
   "outputs": [],
   "source": [
    "# gdf = gpd.read_file(\"./data/MEX/geo2_mx1960_2015.shp\")\n",
    "# gdf = gdf[[\"GEOLEVEL2\", \"geometry\"]]\n",
    "# gdf.columns = [\"shapeID\", \"geometry\"]\n",
    "# gdf.to_file(\"./ipumns_shp.shp\")\n",
    "\n",
    "# lp.downloadGB(iso = \"MEX\", \n",
    "#               adm = \"2\")"
   ]
  },
  {
   "cell_type": "code",
   "execution_count": 2,
   "metadata": {},
   "outputs": [],
   "source": [
    "# ADM_ID = \"484001001\"\n",
    "# lp.prep_landsat(GB_PATH, ISO, ADM_ID, \"2010\", \"1\", IC, v = False)\n",
    "\n",
    "# ADM_ID = \"484001003\"\n",
    "# lp.prep_landsat(GB_PATH, ISO, ADM_ID, \"2010\", \"1\", IC, v = False)\n",
    "\n",
    "# ADM_ID = \"484014116\"\n",
    "# lp.prep_landsat(GB_PATH, ISO, ADM_ID, \"2010\", \"1\", IC, v = False)\n",
    "\n",
    "# ADM_ID = \"484014046\"\n",
    "# lp.prep_landsat(GB_PATH, ISO, ADM_ID, \"2010\", \"1\", IC, v = False)"
   ]
  },
  {
   "cell_type": "code",
   "execution_count": 25,
   "metadata": {},
   "outputs": [],
   "source": [
    "class GraphLoader():\n",
    "\n",
    "    class Dataset():\n",
    "        def __init__(self, x, y, edge_index, batch):\n",
    "            self.x = x\n",
    "            self.y = y\n",
    "            self.edge_index = edge_index\n",
    "            self.batch = batch\n",
    "\n",
    "    def __init__(self, data_dir, iso, dta_path, batch_size):\n",
    "\n",
    "        self.iso = iso\n",
    "        self.data_dir = os.path.join(data_dir, iso)\n",
    "        self.batch_size = batch_size\n",
    "        self.munis = [i for i in os.listdir(self.data_dir) if os.path.isdir(os.path.join(self.data_dir, i))]\n",
    "        self.data_dir = os.path.join(data_dir, iso)\n",
    "        self.image_graphs = [gg.ImageGraph(self.data_dir, i, dta = dta_path) for i in self.munis] \n",
    "        self.indexes = [i for i in range(0, len(self.munis))]\n",
    "        random.shuffle(self.indexes)\n",
    "        self.indexes = [self.indexes[i:i + self.batch_size] for i in range(0, len(self.indexes), self.batch_size)]\n",
    "\n",
    "        self.data = []\n",
    "        [self.data.append(self.__load_graph(np.array(self.image_graphs)[batch])) for batch in self.indexes]\n",
    "\n",
    "\n",
    "    def __load_graph(self, batch):\n",
    "\n",
    "        # X's \n",
    "        xs = torch.cat([i.x for i in batch])\n",
    "\n",
    "        # Y's\n",
    "        ys = torch.tensor([i.y for i in batch]).view(-1, 1)\n",
    "\n",
    "        # Batch ID's\n",
    "        batch_ids = []\n",
    "        node_nums = [i.num_nodes for i in batch]\n",
    "        for i in range(len(node_nums)):\n",
    "            batch_ids.append(np.array([i for n in range(node_nums[i])], dtype = np.float32))        \n",
    "        batch_ids = torch.tensor(np.concatenate(batch_ids))\n",
    "\n",
    "        # Edge Indices\n",
    "        all_edge_indices = []\n",
    "        edge_indices = [i.edge_list for i in batch]\n",
    "        for i in range(len(edge_indices)):\n",
    "            all_edge_indices.append(np.array(edge_indices[i]) + np.sum(np.array(node_nums)[:i]))\n",
    "        edge_indices = torch.tensor(np.concatenate(all_edge_indices))\n",
    "        \n",
    "        return self.Dataset(xs, ys, edge_indices, batch_ids)"
   ]
  },
  {
   "cell_type": "code",
   "execution_count": 26,
   "metadata": {},
   "outputs": [
    {
     "output_type": "execute_result",
     "data": {
      "text/plain": [
       "[<__main__.GraphLoader.Dataset at 0x7f07f7b0b090>]"
      ]
     },
     "metadata": {},
     "execution_count": 26
    }
   ],
   "source": [
    "g = GraphLoader(\"./data/\", \"MEX\", \"/home/hbaier/Desktop/geograph/test/migration_data.json\", 4).data\n",
    "g"
   ]
  },
  {
   "cell_type": "code",
   "execution_count": 27,
   "metadata": {},
   "outputs": [
    {
     "output_type": "execute_result",
     "data": {
      "text/plain": [
       "tensor([[ 3721.],\n",
       "        [42055.],\n",
       "        [ 3417.],\n",
       "        [11992.]])"
      ]
     },
     "metadata": {},
     "execution_count": 27
    }
   ],
   "source": [
    "g[0].y"
   ]
  },
  {
   "cell_type": "code",
   "execution_count": null,
   "metadata": {},
   "outputs": [],
   "source": []
  }
 ]
}