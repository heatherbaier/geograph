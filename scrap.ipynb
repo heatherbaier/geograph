{
 "metadata": {
  "language_info": {
   "codemirror_mode": {
    "name": "ipython",
    "version": 3
   },
   "file_extension": ".py",
   "mimetype": "text/x-python",
   "name": "python",
   "nbconvert_exporter": "python",
   "pygments_lexer": "ipython3",
   "version": "3.8.5"
  },
  "orig_nbformat": 2,
  "kernelspec": {
   "name": "python385jvsc74a57bd0a3872c8923d528cb48eb8ce1ea184d196d760a05b1eb0715acc4ae370d3d98ed",
   "display_name": "Python 3.8.5 64-bit ('graphNet': conda)"
  }
 },
 "nbformat": 4,
 "nbformat_minor": 2,
 "cells": [
  {
   "cell_type": "code",
   "execution_count": 1,
   "metadata": {},
   "outputs": [],
   "source": [
    "import torch"
   ]
  },
  {
   "cell_type": "code",
   "execution_count": null,
   "metadata": {},
   "outputs": [],
   "source": [
    "k denotes the current step in the outer loop (or the depth of the search)\n",
    "h_k denotes a node’s representation at this step:"
   ]
  },
  {
   "cell_type": "code",
   "execution_count": null,
   "metadata": {},
   "outputs": [],
   "source": [
    "\"\"\"\n",
    "    1) Each node v ∈ V aggregates the representations of the nodes in its immediate neighborhood, into a single vector (Note that this aggregation\n",
    "step depends on the representations generated at the previous iteration of the outer loop and the k = 0 (“base case”) representations are defined as the input node features)\n",
    "    2) After aggregating\n",
    "the neighboring feature vectors, GraphSAGE then concatenates the node’s current representation with the aggregated neighborhood vector ... torch.cat((node_features, neighbor_features), dim = 1)\n",
    "    3) This concatenated vector is fed through a fully connected layer with nonlinear activation function σ, which transforms the representations to be used at the next step of the algorithm\n",
    "\"\"\""
   ]
  },
  {
   "cell_type": "code",
   "execution_count": 6,
   "metadata": {},
   "outputs": [
    {
     "output_type": "execute_result",
     "data": {
      "text/plain": [
       "tensor([[0.7804, 0.7554],\n",
       "        [0.8911, 0.9375],\n",
       "        [0.5990, 0.2697],\n",
       "        [0.1539, 0.8532],\n",
       "        [0.0819, 0.4254]])"
      ]
     },
     "metadata": {},
     "execution_count": 6
    }
   ],
   "source": [
    "x = torch.rand(5,2)\n",
    "x"
   ]
  },
  {
   "cell_type": "code",
   "execution_count": 15,
   "metadata": {},
   "outputs": [
    {
     "output_type": "execute_result",
     "data": {
      "text/plain": [
       "tensor([[  1,   2,   3, -99],\n",
       "        [  0,   2,   3, -99],\n",
       "        [  0,   3,   4, -99],\n",
       "        [  0,   1,   2,   4],\n",
       "        [  2,   3, -99, -99]])"
      ]
     },
     "metadata": {},
     "execution_count": 15
    }
   ],
   "source": [
    "adj_list = torch.tensor(\n",
    "                        [[1,2,3,-99],\n",
    "                         [0,2,3,-99],\n",
    "                         [0,3,4,-99],\n",
    "                         [0,1,2,4],\n",
    "                         [2,3,-99,-99]]\n",
    "                         \n",
    "                         )\n",
    "adj_list"
   ]
  },
  {
   "cell_type": "code",
   "execution_count": 83,
   "metadata": {},
   "outputs": [],
   "source": [
    "class Sage(torch.nn.Module):\n",
    "\n",
    "    def __init__(self, feature_dim): \n",
    "        super(Sage, self).__init__()\n",
    "        self.w = torch.rand(1, feature_dim)\n",
    "\n",
    "\n",
    "    def forward(self, x, adj_list):\n",
    "        for node in adj_list:\n",
    "            cur_neigh_feats = torch.mean(torch.index_select(x, 0, node[node > 0]), dim = 0).unsqueeze(0)\n",
    "            try:\n",
    "                neigh_feats = torch.cat((neigh_feats, cur_neigh_feats), dim = 0)\n",
    "            except:\n",
    "                neigh_feats = cur_neigh_feats\n",
    "\n",
    "        cat = torch.cat((x, neigh_feats), dim = 1)\n",
    "        print(\"weight: \", self.w)\n",
    "        print(\"cat: \", cat)\n",
    "        print(\"cat.t()\", cat.t())\n",
    "        out = self.w.mm(cat.t())\n",
    "\n",
    "        return out\n",
    "\n"
   ]
  },
  {
   "cell_type": "code",
   "execution_count": 84,
   "metadata": {},
   "outputs": [
    {
     "output_type": "stream",
     "name": "stdout",
     "text": [
      "weight:  tensor([[0.1129, 0.8911, 0.6820, 0.4293]])\ncat:  tensor([[0.7804, 0.7554, 0.5480, 0.6868],\n        [0.8911, 0.9375, 0.3765, 0.5615],\n        [0.5990, 0.2697, 0.1179, 0.6393],\n        [0.1539, 0.8532, 0.5240, 0.5442],\n        [0.0819, 0.4254, 0.3765, 0.5615]])\ncat.t() tensor([[0.7804, 0.8911, 0.5990, 0.1539, 0.0819],\n        [0.7554, 0.9375, 0.2697, 0.8532, 0.4254],\n        [0.5480, 0.3765, 0.1179, 0.5240, 0.3765],\n        [0.6868, 0.5615, 0.6393, 0.5442, 0.5615]])\n"
     ]
    },
    {
     "output_type": "execute_result",
     "data": {
      "text/plain": [
       "tensor([[1.4299, 1.4338, 0.6628, 1.3687, 0.8861]])"
      ]
     },
     "metadata": {},
     "execution_count": 84
    }
   ],
   "source": [
    "s = Sage(2 * 2)\n",
    "s(x, adj_list)"
   ]
  },
  {
   "cell_type": "code",
   "execution_count": 48,
   "metadata": {},
   "outputs": [
    {
     "output_type": "stream",
     "name": "stdout",
     "text": [
      "tensor([[0.5480, 0.6868],\n        [0.3765, 0.5615],\n        [0.1179, 0.6393],\n        [0.5240, 0.5442],\n        [0.3765, 0.5615]])\n"
     ]
    }
   ],
   "source": [
    "try: del neigh_feats\n",
    "except: pass\n",
    "\n",
    "\n",
    "for node in adj_list:\n",
    "    cur_neigh_feats = torch.mean(torch.index_select(x, 0, node[node > 0]), dim = 0).unsqueeze(0)\n",
    "    try:\n",
    "        neigh_feats = torch.cat((neigh_feats, cur_neigh_feats), dim = 0)\n",
    "    except:\n",
    "        neigh_feats = cur_neigh_feats\n",
    "\n",
    "print(neigh_feats)\n",
    "\n",
    "\n",
    "    \n",
    "\n",
    "    # print(\"\\n\")"
   ]
  },
  {
   "cell_type": "code",
   "execution_count": 49,
   "metadata": {},
   "outputs": [
    {
     "output_type": "execute_result",
     "data": {
      "text/plain": [
       "tensor([[0.5480, 0.6868],\n",
       "        [0.3765, 0.5615],\n",
       "        [0.1179, 0.6393],\n",
       "        [0.5240, 0.5442],\n",
       "        [0.3765, 0.5615]])"
      ]
     },
     "metadata": {},
     "execution_count": 49
    }
   ],
   "source": [
    "neigh_feats"
   ]
  },
  {
   "cell_type": "code",
   "execution_count": 50,
   "metadata": {},
   "outputs": [
    {
     "output_type": "execute_result",
     "data": {
      "text/plain": [
       "tensor([[0.7804, 0.7554],\n",
       "        [0.8911, 0.9375],\n",
       "        [0.5990, 0.2697],\n",
       "        [0.1539, 0.8532],\n",
       "        [0.0819, 0.4254]])"
      ]
     },
     "metadata": {},
     "execution_count": 50
    }
   ],
   "source": [
    "x"
   ]
  },
  {
   "cell_type": "code",
   "execution_count": 53,
   "metadata": {},
   "outputs": [
    {
     "output_type": "execute_result",
     "data": {
      "text/plain": [
       "tensor([[0.7804, 0.7554, 0.5480, 0.6868],\n",
       "        [0.8911, 0.9375, 0.3765, 0.5615],\n",
       "        [0.5990, 0.2697, 0.1179, 0.6393],\n",
       "        [0.1539, 0.8532, 0.5240, 0.5442],\n",
       "        [0.0819, 0.4254, 0.3765, 0.5615]])"
      ]
     },
     "metadata": {},
     "execution_count": 53
    }
   ],
   "source": [
    "cat = torch.cat((x, neigh_feats), dim = 1)\n",
    "cat"
   ]
  },
  {
   "cell_type": "code",
   "execution_count": 66,
   "metadata": {},
   "outputs": [
    {
     "output_type": "execute_result",
     "data": {
      "text/plain": [
       "tensor([[0.7804, 0.8911, 0.5990, 0.1539, 0.0819],\n",
       "        [0.7554, 0.9375, 0.2697, 0.8532, 0.4254],\n",
       "        [0.5480, 0.3765, 0.1179, 0.5240, 0.3765],\n",
       "        [0.6868, 0.5615, 0.6393, 0.5442, 0.5615]])"
      ]
     },
     "metadata": {},
     "execution_count": 66
    }
   ],
   "source": [
    "cat.t()"
   ]
  },
  {
   "cell_type": "code",
   "execution_count": 86,
   "metadata": {},
   "outputs": [
    {
     "output_type": "execute_result",
     "data": {
      "text/plain": [
       "tensor([[-0.3884],\n",
       "        [-0.3401],\n",
       "        [-0.3273],\n",
       "        [-0.1176],\n",
       "        [-0.1519]], grad_fn=<AddmmBackward>)"
      ]
     },
     "metadata": {},
     "execution_count": 86
    }
   ],
   "source": [
    "l = torch.nn.Linear(4, 1)\n",
    "l(cat)"
   ]
  },
  {
   "cell_type": "code",
   "execution_count": 87,
   "metadata": {},
   "outputs": [
    {
     "output_type": "execute_result",
     "data": {
      "text/plain": [
       "tensor([[0.7348, 0.4718, 0.1690, 0.1551]])"
      ]
     },
     "metadata": {},
     "execution_count": 87
    }
   ],
   "source": [
    "param = torch.rand(1, 4)\n",
    "param"
   ]
  },
  {
   "cell_type": "code",
   "execution_count": 74,
   "metadata": {},
   "outputs": [
    {
     "output_type": "execute_result",
     "data": {
      "text/plain": [
       "tensor([[0.8810, 0.8597, 0.5320, 0.7657, 0.5579]])"
      ]
     },
     "metadata": {},
     "execution_count": 74
    }
   ],
   "source": [
    "param.mm(cat.t())"
   ]
  },
  {
   "cell_type": "code",
   "execution_count": 93,
   "metadata": {},
   "outputs": [],
   "source": [
    "t1 = torch.rand(128, 2866)\n",
    "t2 = torch.rand(724, 2866)\n",
    "# t3 = torch.rand(1)\n",
    "\n",
    "# torch.cat((t1, t2, t3))"
   ]
  },
  {
   "cell_type": "code",
   "execution_count": 94,
   "metadata": {},
   "outputs": [
    {
     "output_type": "execute_result",
     "data": {
      "text/plain": [
       "tensor([[0.1119, 0.2839, 0.9802,  ..., 0.1941, 0.5874, 0.9189],\n",
       "        [0.7242, 0.6031, 0.9000,  ..., 0.2070, 0.0143, 0.3608],\n",
       "        [0.2858, 0.7533, 0.4856,  ..., 0.2480, 0.1502, 0.6680],\n",
       "        ...,\n",
       "        [0.5362, 0.1371, 0.0212,  ..., 0.9871, 0.5192, 0.6612],\n",
       "        [0.3483, 0.7225, 0.5843,  ..., 0.5180, 0.6524, 0.9938],\n",
       "        [0.5438, 0.2904, 0.3011,  ..., 0.1303, 0.5327, 0.6136]])"
      ]
     },
     "metadata": {},
     "execution_count": 94
    }
   ],
   "source": [
    "t1"
   ]
  },
  {
   "cell_type": "code",
   "execution_count": 95,
   "metadata": {},
   "outputs": [
    {
     "output_type": "execute_result",
     "data": {
      "text/plain": [
       "tensor([[0.0219, 0.1333]])"
      ]
     },
     "metadata": {},
     "execution_count": 95
    }
   ],
   "source": [
    "param = torch.rand(1, 2)\n",
    "param"
   ]
  },
  {
   "cell_type": "code",
   "execution_count": 97,
   "metadata": {},
   "outputs": [
    {
     "output_type": "execute_result",
     "data": {
      "text/plain": [
       "torch.Size([128, 724])"
      ]
     },
     "metadata": {},
     "execution_count": 97
    }
   ],
   "source": [
    "t1.mm(t2.t()).shape"
   ]
  },
  {
   "cell_type": "code",
   "execution_count": 14,
   "metadata": {},
   "outputs": [
    {
     "output_type": "stream",
     "name": "stdout",
     "text": [
      "Adjacency List:\n0 -> 2\n1 -> 2\n2 -> 0 -> 1\n"
     ]
    }
   ],
   "source": [
    "from collections import defaultdict\n",
    "# converts from adjacency matrix to adjacency list\n",
    "def convert(a):\n",
    "    adjList = defaultdict(list)\n",
    "    for i in range(len(a)):\n",
    "        for j in range(len(a[i])):\n",
    "                       if a[i][j]== 1:\n",
    "                           adjList[i].append(j)\n",
    "    return adjList\n",
    "  \n",
    "# driver code\n",
    "a =[[0, 0, 1], [0, 0, 1], [1, 1, 0]] # adjacency matrix\n",
    "AdjList = convert(a)\n",
    "print(\"Adjacency List:\")\n",
    "# print the adjacency list\n",
    "for i in AdjList:\n",
    "    print(i, end =\"\")\n",
    "    for j in AdjList[i]:\n",
    "        print(\" -> {}\".format(j), end =\"\")\n",
    "    print()\n",
    "   "
   ]
  },
  {
   "cell_type": "code",
   "execution_count": null,
   "metadata": {},
   "outputs": [],
   "source": []
  }
 ]
}